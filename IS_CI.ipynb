{
 "cells": [
  {
   "cell_type": "code",
   "execution_count": 1,
   "metadata": {},
   "outputs": [],
   "source": [
    "import numpy as np\n",
    "import matplotlib.pyplot as plt\n",
    "from multiprocessing import Pool\n",
    "from tqdm import tqdm\n",
    "from Behaviour_pi import Behavioural\n",
    "from Behaviour_pi import Policy\n",
    "import gym\n",
    "import time\n",
    "import flexible_bus\n",
    "from policy import model_1, model_2  \n",
    "import json\n",
    "import matplotlib.pyplot as plt\n",
    "from concurrent.futures import ProcessPoolExecutor\n",
    "from functools import partial\n",
    "import os\n",
    "import torch\n",
    "import torch.nn as nn\n",
    "import pandas as pd\n"
   ]
  },
  {
   "cell_type": "code",
   "execution_count": null,
   "metadata": {},
   "outputs": [],
   "source": [
    "max_epochs = 1000000\n",
    "step = 5000\n",
    "min_epochs = 1000\n",
    "alpha = 0.05  # Adjust based on desired sensitivity\n",
    "traj_num = 1000000\n",
    "traj_len = 5\n",
    "gamma = 0.99\n",
    "converge = 0.0001\n",
    "confidence_level = 0.9\n",
    "# base_policy = [0.5,0.5]\n",
    "eval_pi = torch.load(\"./Policys/Perturbed_model_0.pth\")\n",
    "converge_epoch_ls = []\n",
    "# for i in tqdm(range(9),desc=\"Outer_loop\"):\n",
    "#     for j in tqdm(range(9),desc=\"Inter_loop\"): \n",
    "base_pi = Behavioural()\n",
    "base_pi.load_state_dict(torch.load(\"./Behavioural_model.pth\"))\n",
    "traj_list = pd.read_parquet(\"./Traject/trajectories.pq\")\n",
    "return_list = np.loadtxt(\"./return_list.txt\")\n"
   ]
  },
  {
   "cell_type": "code",
   "execution_count": null,
   "metadata": {},
   "outputs": [
    {
     "data": {
      "text/plain": [
       "(np.float64(37.776383439), np.float64(1.93089501))"
      ]
     },
     "execution_count": 10,
     "metadata": {},
     "output_type": "execute_result"
    }
   ],
   "source": [
    "return_list = traj_list.iloc[:5, 1].to_numpy()\n",
    "up_b, low_b = max(return_list), min(return_list)\n",
    "up_b,low_b"
   ]
  },
  {
   "cell_type": "code",
   "execution_count": 17,
   "metadata": {},
   "outputs": [
    {
     "data": {
      "text/plain": [
       "[np.float64(0.42990124881470054),\n",
       " np.float64(0.32128364055663894),\n",
       " np.float64(0.3273018313933267),\n",
       " np.float64(0.40874862227142345),\n",
       " np.float64(0.3483245076917013)]"
      ]
     },
     "execution_count": 17,
     "metadata": {},
     "output_type": "execute_result"
    }
   ],
   "source": [
    "iw_ls = []\n",
    "wr_ls=[] #weighte return list\n",
    "# up_b, low_b = max(return_list), min(return_list)\n",
    "batch_size = 5\n",
    "for j in range(batch_size):\n",
    "    for i in range(traj_len):\n",
    "        obs = traj_list.iloc[j][f\"obs_{i}\"]\n",
    "        a = traj_list.iloc[j][f\"direct_action_{i}\"]\n",
    "        obs = torch.tensor(obs,dtype=torch.float32)\n",
    "        eval_out = eval_pi(obs)\n",
    "        base_out = base_pi(obs)\n",
    "        eval_policy = [[1-eval_out[0].item(),eval_out[0].item()],[1-eval_out[1].item(),eval_out[1].item()]]\n",
    "        base_policy = [[1-base_out[0].item(),base_out[0].item()],[1-base_out[1].item(),base_out[1].item()]]\n",
    "        importance_weights =((eval_policy[0][a[0]] * eval_policy[1][a[1]]) /(base_policy[0][a[0]] * base_policy[1][a[1]]))\n",
    "        iw_ls.append(importance_weights)\n",
    "    importance_weight = np.prod(iw_ls)\n",
    "    norm_return = (traj_list.iloc[j][\"return\"] - low_b) / (up_b - low_b)\n",
    "    wr = norm_return*importance_weight\n",
    "    wr_ls.append(norm_return)\n",
    "wr_ls       "
   ]
  },
  {
   "cell_type": "code",
   "execution_count": null,
   "metadata": {},
   "outputs": [],
   "source": [
    "up_b, low_b = max(return_list), min(return_list)\n",
    "\n",
    "\"\"\"\n",
    "Func to use the collected trajectories to estimate the evaluation policy\n",
    "\n",
    "Args:\n",
    "    traj (_type_): dict\n",
    "    eval_policy (_type_): _description_\n",
    "    base_policy (_type_): _description_\n",
    "    up_b (_type_): _description_\n",
    "    low_b (_type_): _description_\n",
    "\"\"\"\n",
    "traj = traj_list.iloc[0]\n",
    "obs = torch.tensor(obs,dtype=torch.float32)\n",
    "[p1, p2] = base_policy(obs)\n",
    "p1 = p1.item()\n",
    "p2 = p2.item()\n",
    "direct_action = [p1, p2]\n",
    "\n",
    "\n",
    "eval_policy = [[1-eval_policy[0],eval_policy[0]],[1-eval_policy[1],eval_policy[1]]]\n",
    "base_policy = [[1-base_policy[0],base_policy[0]],[1-base_policy[1],base_policy[1]]]\n",
    "actions = traj[\"actions\"]  # Assume it's a list of lists\n",
    "importance_weights = [\n",
    "    (eval_policy[0][a[0]] * eval_policy[1][a[1]]) /\n",
    "    (base_policy[0][a[0]] * base_policy[1][a[1]])\n",
    "    for a in actions\n",
    "]\n",
    "importance_weight = np.prod(importance_weights)\n",
    "norm_return = (traj[\"return\"] - low_b) / (up_b - low_b)"
   ]
  }
 ],
 "metadata": {
  "kernelspec": {
   "display_name": "Multiagent_Search",
   "language": "python",
   "name": "python3"
  },
  "language_info": {
   "codemirror_mode": {
    "name": "ipython",
    "version": 3
   },
   "file_extension": ".py",
   "mimetype": "text/x-python",
   "name": "python",
   "nbconvert_exporter": "python",
   "pygments_lexer": "ipython3",
   "version": "3.11.4"
  }
 },
 "nbformat": 4,
 "nbformat_minor": 2
}
