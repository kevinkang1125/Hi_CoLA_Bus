{
 "cells": [
  {
   "cell_type": "code",
   "execution_count": 1,
   "metadata": {},
   "outputs": [],
   "source": [
    "import pandas as pd\n",
    "import torch\n",
    "import torch.nn as nn\n",
    "import torch.optim as optim\n",
    "import torch.nn.functional as F\n",
    "from torch.utils.data import DataLoader, TensorDataset, random_split\n",
    "import matplotlib.pyplot as plt"
   ]
  },
  {
   "cell_type": "code",
   "execution_count": 2,
   "metadata": {},
   "outputs": [
    {
     "name": "stderr",
     "output_type": "stream",
     "text": [
      "\n",
      "A module that was compiled using NumPy 1.x cannot be run in\n",
      "NumPy 2.1.3 as it may crash. To support both 1.x and 2.x\n",
      "versions of NumPy, modules must be compiled with NumPy 2.0.\n",
      "Some module may need to rebuild instead e.g. with 'pybind11>=2.12'.\n",
      "\n",
      "If you are a user of the module, the easiest solution will be to\n",
      "downgrade to 'numpy<2' or try to upgrade the affected module.\n",
      "We expect that some modules will need time to support NumPy 2.\n",
      "\n",
      "Traceback (most recent call last):  File \"<frozen runpy>\", line 198, in _run_module_as_main\n",
      "  File \"<frozen runpy>\", line 88, in _run_code\n",
      "  File \"/home/kevinkang/anaconda3/envs/Multiagent_Search/lib/python3.11/site-packages/ipykernel_launcher.py\", line 18, in <module>\n",
      "    app.launch_new_instance()\n",
      "  File \"/home/kevinkang/anaconda3/envs/Multiagent_Search/lib/python3.11/site-packages/traitlets/config/application.py\", line 1075, in launch_instance\n",
      "    app.start()\n",
      "  File \"/home/kevinkang/anaconda3/envs/Multiagent_Search/lib/python3.11/site-packages/ipykernel/kernelapp.py\", line 739, in start\n",
      "    self.io_loop.start()\n",
      "  File \"/home/kevinkang/anaconda3/envs/Multiagent_Search/lib/python3.11/site-packages/tornado/platform/asyncio.py\", line 215, in start\n",
      "    self.asyncio_loop.run_forever()\n",
      "  File \"/home/kevinkang/anaconda3/envs/Multiagent_Search/lib/python3.11/asyncio/base_events.py\", line 607, in run_forever\n",
      "    self._run_once()\n",
      "  File \"/home/kevinkang/anaconda3/envs/Multiagent_Search/lib/python3.11/asyncio/base_events.py\", line 1922, in _run_once\n",
      "    handle._run()\n",
      "  File \"/home/kevinkang/anaconda3/envs/Multiagent_Search/lib/python3.11/asyncio/events.py\", line 80, in _run\n",
      "    self._context.run(self._callback, *self._args)\n",
      "  File \"/home/kevinkang/anaconda3/envs/Multiagent_Search/lib/python3.11/site-packages/ipykernel/kernelbase.py\", line 545, in dispatch_queue\n",
      "    await self.process_one()\n",
      "  File \"/home/kevinkang/anaconda3/envs/Multiagent_Search/lib/python3.11/site-packages/ipykernel/kernelbase.py\", line 534, in process_one\n",
      "    await dispatch(*args)\n",
      "  File \"/home/kevinkang/anaconda3/envs/Multiagent_Search/lib/python3.11/site-packages/ipykernel/kernelbase.py\", line 437, in dispatch_shell\n",
      "    await result\n",
      "  File \"/home/kevinkang/anaconda3/envs/Multiagent_Search/lib/python3.11/site-packages/ipykernel/ipkernel.py\", line 362, in execute_request\n",
      "    await super().execute_request(stream, ident, parent)\n",
      "  File \"/home/kevinkang/anaconda3/envs/Multiagent_Search/lib/python3.11/site-packages/ipykernel/kernelbase.py\", line 778, in execute_request\n",
      "    reply_content = await reply_content\n",
      "  File \"/home/kevinkang/anaconda3/envs/Multiagent_Search/lib/python3.11/site-packages/ipykernel/ipkernel.py\", line 449, in do_execute\n",
      "    res = shell.run_cell(\n",
      "  File \"/home/kevinkang/anaconda3/envs/Multiagent_Search/lib/python3.11/site-packages/ipykernel/zmqshell.py\", line 549, in run_cell\n",
      "    return super().run_cell(*args, **kwargs)\n",
      "  File \"/home/kevinkang/anaconda3/envs/Multiagent_Search/lib/python3.11/site-packages/IPython/core/interactiveshell.py\", line 3075, in run_cell\n",
      "    result = self._run_cell(\n",
      "  File \"/home/kevinkang/anaconda3/envs/Multiagent_Search/lib/python3.11/site-packages/IPython/core/interactiveshell.py\", line 3130, in _run_cell\n",
      "    result = runner(coro)\n",
      "  File \"/home/kevinkang/anaconda3/envs/Multiagent_Search/lib/python3.11/site-packages/IPython/core/async_helpers.py\", line 128, in _pseudo_sync_runner\n",
      "    coro.send(None)\n",
      "  File \"/home/kevinkang/anaconda3/envs/Multiagent_Search/lib/python3.11/site-packages/IPython/core/interactiveshell.py\", line 3334, in run_cell_async\n",
      "    has_raised = await self.run_ast_nodes(code_ast.body, cell_name,\n",
      "  File \"/home/kevinkang/anaconda3/envs/Multiagent_Search/lib/python3.11/site-packages/IPython/core/interactiveshell.py\", line 3517, in run_ast_nodes\n",
      "    if await self.run_code(code, result, async_=asy):\n",
      "  File \"/home/kevinkang/anaconda3/envs/Multiagent_Search/lib/python3.11/site-packages/IPython/core/interactiveshell.py\", line 3577, in run_code\n",
      "    exec(code_obj, self.user_global_ns, self.user_ns)\n",
      "  File \"/tmp/ipykernel_409979/3558355405.py\", line 13, in <module>\n",
      "    behavior_pi = Behavioural(input_dim=5, hidden_dim=64, output_dim=2)\n",
      "  File \"/tmp/ipykernel_409979/3558355405.py\", line 6, in __init__\n",
      "    nn.Linear(input_dim, hidden_dim),\n",
      "  File \"/home/kevinkang/anaconda3/envs/Multiagent_Search/lib/python3.11/site-packages/torch/nn/modules/linear.py\", line 96, in __init__\n",
      "    self.weight = Parameter(torch.empty((out_features, in_features), **factory_kwargs))\n",
      "/home/kevinkang/anaconda3/envs/Multiagent_Search/lib/python3.11/site-packages/torch/nn/modules/linear.py:96: UserWarning: Failed to initialize NumPy: _ARRAY_API not found (Triggered internally at /opt/conda/conda-bld/pytorch_1682343995622/work/torch/csrc/utils/tensor_numpy.cpp:84.)\n",
      "  self.weight = Parameter(torch.empty((out_features, in_features), **factory_kwargs))\n"
     ]
    },
    {
     "data": {
      "text/plain": [
       "<All keys matched successfully>"
      ]
     },
     "execution_count": 2,
     "metadata": {},
     "output_type": "execute_result"
    }
   ],
   "source": [
    "# === Behavioural Model ===\n",
    "class Behavioural(nn.Module):\n",
    "    def __init__(self, input_dim, hidden_dim, output_dim):\n",
    "        super().__init__()\n",
    "        self.model = nn.Sequential(\n",
    "            nn.Linear(input_dim, hidden_dim),\n",
    "            nn.ReLU(),\n",
    "            nn.Linear(hidden_dim, output_dim)\n",
    "        )\n",
    "\n",
    "    def forward(self, x):\n",
    "        return self.model(x)\n",
    "behavior_pi = Behavioural(input_dim=5, hidden_dim=64, output_dim=2)\n",
    "\n",
    "# 2. Load the weights into it\n",
    "behavior_pi.load_state_dict(torch.load(\"./Behavioural_model.pth\"))"
   ]
  },
  {
   "cell_type": "code",
   "execution_count": 4,
   "metadata": {},
   "outputs": [],
   "source": [
    "# === Perturbation Model ===\n",
    "class Policy(nn.Module):\n",
    "    def __init__(self, input_dim, hidden_dim, output_dim):\n",
    "        super().__init__()\n",
    "        self.model = nn.Sequential(\n",
    "            nn.Linear(input_dim, hidden_dim),\n",
    "            nn.ReLU(),\n",
    "            nn.Linear(hidden_dim, output_dim)\n",
    "        )\n",
    "\n",
    "    def forward(self, x):\n",
    "        return self.model(x)\n",
    "pi = torch.load(\"./Policys/Perturbed_model_0.pth\")"
   ]
  },
  {
   "cell_type": "code",
   "execution_count": 6,
   "metadata": {},
   "outputs": [],
   "source": [
    "# KL between 2D Bernoulli probabilities for one batch\n",
    "def bernoulli_kl(p, q, eps=1e-8):\n",
    "    p = torch.clamp(p, eps, 1 - eps)\n",
    "    q = torch.clamp(q, eps, 1 - eps)\n",
    "    return (p * torch.log(p / q) + (1 - p) * torch.log((1 - p) / (1 - q))).sum(dim=-1)\n"
   ]
  },
  {
   "cell_type": "code",
   "execution_count": 7,
   "metadata": {},
   "outputs": [],
   "source": [
    "# Compute KL between two MLP policies over a batch of states\n",
    "def kl_between_policies(pi, pi_perturbed, states):\n",
    "    with torch.no_grad():\n",
    "        probs_pi = pi(states)\n",
    "        probs_pert = pi_perturbed(states)\n",
    "        kl_vals = bernoulli_kl(probs_pert, probs_pi)\n",
    "        return kl_vals.mean()\n"
   ]
  },
  {
   "cell_type": "code",
   "execution_count": null,
   "metadata": {},
   "outputs": [],
   "source": [
    "# Compute KL over multiple perturbed models\n",
    "def kl_over_perturbed_set(pi, perturbed_pis, states):\n",
    "    kl_results = []\n",
    "    for i, perturbed_pi in enumerate(perturbed_pis):\n",
    "        kl_val = kl_between_policies(pi, perturbed_pi, states)\n",
    "        kl_results.append(kl_val.item())\n",
    "        print(f\"KL(pi || pi_perturbed_{i}) = {kl_val:.6f}\")\n",
    "    return kl_results\n"
   ]
  },
  {
   "cell_type": "code",
   "execution_count": 8,
   "metadata": {},
   "outputs": [],
   "source": [
    "# Compute KL over multiple perturbed models\n",
    "def kl_over_perturbed_set(pi, perturbed_pi, states):\n",
    "\n",
    "    kl_val = kl_between_policies(pi, perturbed_pi, states)\n",
    "    return kl_val"
   ]
  },
  {
   "cell_type": "code",
   "execution_count": 13,
   "metadata": {},
   "outputs": [],
   "source": [
    "df = pd.read_csv(\"traj.csv\")  # or use your DataFrame directly\n",
    "\n",
    "states = torch.tensor(df.iloc[:40000, :5].values, dtype=torch.float32)\n",
    "# states = torch.randn(100, 5)  # input_dim = 5\n",
    "\n",
    "# Suppose this is your original policy\n",
    "# pi = Behavioural(input_dim=5, hidden_dim=64, output_dim=2)\n",
    "\n",
    "# # Create N perturbed copies\n",
    "# perturbed_pis = [\n",
    "#     get_multiplicatively_perturbed_copy(pi, omega=0.02)\n",
    "#     for _ in range(10)\n",
    "# ]\n",
    "\n",
    "# Compute KL divergence for each\n",
    "kl_scores = kl_over_perturbed_set(pi, behavior_pi, states)\n"
   ]
  },
  {
   "cell_type": "code",
   "execution_count": 14,
   "metadata": {},
   "outputs": [
    {
     "data": {
      "text/plain": [
       "tensor(0.0117)"
      ]
     },
     "execution_count": 14,
     "metadata": {},
     "output_type": "execute_result"
    }
   ],
   "source": [
    "kl_scores"
   ]
  }
 ],
 "metadata": {
  "kernelspec": {
   "display_name": "Multiagent_Search",
   "language": "python",
   "name": "python3"
  },
  "language_info": {
   "codemirror_mode": {
    "name": "ipython",
    "version": 3
   },
   "file_extension": ".py",
   "mimetype": "text/x-python",
   "name": "python",
   "nbconvert_exporter": "python",
   "pygments_lexer": "ipython3",
   "version": "3.11.4"
  }
 },
 "nbformat": 4,
 "nbformat_minor": 2
}
