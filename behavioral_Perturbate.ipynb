{
 "cells": [
  {
   "cell_type": "code",
   "execution_count": 42,
   "metadata": {},
   "outputs": [],
   "source": [
    "import pandas as pd\n",
    "import torch\n",
    "import torch.nn as nn\n",
    "import torch.optim as optim\n",
    "import torch.nn.functional as F\n",
    "from torch.utils.data import DataLoader, TensorDataset, random_split\n",
    "import matplotlib.pyplot as plt"
   ]
  },
  {
   "cell_type": "markdown",
   "metadata": {},
   "source": [
    "Load Behavioural Model"
   ]
  },
  {
   "cell_type": "code",
   "execution_count": 52,
   "metadata": {},
   "outputs": [
    {
     "data": {
      "text/plain": [
       "<All keys matched successfully>"
      ]
     },
     "execution_count": 52,
     "metadata": {},
     "output_type": "execute_result"
    }
   ],
   "source": [
    "# === Behavioural Model ===\n",
    "class Behavioural(nn.Module):\n",
    "    def __init__(self, input_dim=5, hidden_dim=32, output_dim=2):\n",
    "        super().__init__()\n",
    "        self.model = nn.Sequential(\n",
    "            nn.Linear(input_dim, hidden_dim),\n",
    "            nn.ReLU(),\n",
    "            nn.Linear(hidden_dim, hidden_dim),\n",
    "            nn.ReLU(),\n",
    "            nn.Linear(hidden_dim, output_dim),\n",
    "            nn.Sigmoid(),\n",
    "        )\n",
    "\n",
    "    def forward(self, x):\n",
    "        return self.model(x)\n",
    "behavior_pi = Behavioural(input_dim=5, hidden_dim=32, output_dim=2)\n",
    "\n",
    "# 2. Load the weights into it\n",
    "behavior_pi.load_state_dict(torch.load(\"./Behavioural_model_2.pth\"))"
   ]
  },
  {
   "cell_type": "markdown",
   "metadata": {},
   "source": [
    "Perturbed Policy Setup"
   ]
  },
  {
   "cell_type": "code",
   "execution_count": 53,
   "metadata": {},
   "outputs": [],
   "source": [
    "class Policy(nn.Module):\n",
    "    def __init__(self, input_dim=5, hidden_dim=32, output_dim=2):\n",
    "        super().__init__()\n",
    "        self.model = nn.Sequential(\n",
    "            nn.Linear(input_dim, hidden_dim),\n",
    "            nn.ReLU(),\n",
    "            nn.Linear(hidden_dim, hidden_dim),\n",
    "            nn.ReLU(),\n",
    "            nn.Linear(hidden_dim, output_dim),\n",
    "            nn.Sigmoid(),\n",
    "        )\n",
    "\n",
    "    def forward(self, x):\n",
    "        return self.model(x)"
   ]
  },
  {
   "cell_type": "markdown",
   "metadata": {},
   "source": [
    "Pertubation  $\\theta = \\theta' (1 + \\epsilon), \\epsilon \\backsim N(0,\\sigma^2)$"
   ]
  },
  {
   "cell_type": "code",
   "execution_count": 50,
   "metadata": {},
   "outputs": [],
   "source": [
    "def perturb_multi(pi, sigma=0.5):\n",
    "    # Clone the network\n",
    "    pi_perturbed = Policy(input_dim=5, hidden_dim=64, output_dim=2)\n",
    "    pi_perturbed.load_state_dict(pi.state_dict())  # deep copy of weights\n",
    "\n",
    "    # Apply multiplicative Gaussian noise: θ ← θ * (1 + ε)\n",
    "    with torch.no_grad():\n",
    "        for param in pi_perturbed.parameters():\n",
    "            if param.requires_grad:\n",
    "                noise = torch.randn_like(param) * sigma\n",
    "                param.mul_(1 + noise)\n",
    "\n",
    "    return pi_perturbed\n",
    "\n",
    "perturb_size = 1000\n",
    "sigma = 0.05\n",
    "pi_list = []\n",
    "for i in range(perturb_size):\n",
    "    pi_perturbed = perturb_multi(pi = behavior_pi, sigma=sigma)\n",
    "    torch.save(pi_perturbed, f\"./Policys/Perturbed_model_{i}.pth\")\n",
    "    # pi_list.append(pi_perturbed)"
   ]
  },
  {
   "cell_type": "code",
   "execution_count": 55,
   "metadata": {},
   "outputs": [],
   "source": [
    "def perturb_add(pi, sigma=0.5):\n",
    "    # Clone the network\n",
    "    pi_perturbed = Policy()\n",
    "    pi_perturbed.load_state_dict(pi.state_dict())  # deep copy of weights\n",
    "\n",
    "    # Apply multiplicative Gaussian noise: θ ← θ * (1 + ε)\n",
    "    with torch.no_grad():\n",
    "        for param in pi_perturbed.parameters():\n",
    "            if param.requires_grad:\n",
    "                noise = torch.randn_like(param) * sigma\n",
    "                param.add_(noise)\n",
    "\n",
    "    return pi_perturbed\n",
    "\n",
    "perturb_size = 1000\n",
    "sigma = 0.4\n",
    "pi_list = []\n",
    "for i in range(perturb_size):\n",
    "    pi_perturbed = perturb_add(pi = behavior_pi, sigma=sigma)\n",
    "    torch.save(pi_perturbed, f\"./Policys/Perturbed_model_{i}.pth\")\n",
    "    # pi_list.append(pi_perturbed)"
   ]
  }
 ],
 "metadata": {
  "kernelspec": {
   "display_name": "Multiagent_Search",
   "language": "python",
   "name": "python3"
  },
  "language_info": {
   "codemirror_mode": {
    "name": "ipython",
    "version": 3
   },
   "file_extension": ".py",
   "mimetype": "text/x-python",
   "name": "python",
   "nbconvert_exporter": "python",
   "pygments_lexer": "ipython3",
   "version": "3.11.4"
  }
 },
 "nbformat": 4,
 "nbformat_minor": 2
}
